{
 "cells": [
  {
   "attachments": {},
   "cell_type": "markdown",
   "metadata": {},
   "source": [
    "# BatchNormalization"
   ]
  },
  {
   "cell_type": "code",
   "execution_count": 3,
   "metadata": {},
   "outputs": [],
   "source": [
    "import numpy as np\n",
    "import matplotlib.pyplot as plt\n",
    "from common.mnist import load_mnist\n",
    "from common.multi_layer_net_extend import MultiLayerNetExtend\n",
    "from common.optimizer import SGD, Adam"
   ]
  },
  {
   "attachments": {},
   "cell_type": "markdown",
   "metadata": {},
   "source": [
    "## BatchNormalizationレイヤの実装"
   ]
  },
  {
   "cell_type": "code",
   "execution_count": 4,
   "metadata": {},
   "outputs": [],
   "source": [
    "class BatchNormalization:\n",
    "    \"\"\"\n",
    "    http://arxiv.org/abs/1502.03167\n",
    "    \"\"\"\n",
    "    def __init__(self, gamma, beta, momentum=0.9, running_mean=None, running_var=None):\n",
    "        self.gamma = gamma\n",
    "        self.beta = beta\n",
    "        self.momentum = momentum\n",
    "        self.input_shape = None # Conv層の場合は4次元、全結合層の場合は2次元  \n",
    "\n",
    "        # テスト時に使用する平均と分散\n",
    "        self.running_mean = running_mean\n",
    "        self.running_var = running_var  \n",
    "        \n",
    "        # backward時に使用する中間データ\n",
    "        self.batch_size = None\n",
    "        self.xc = None\n",
    "        self.std = None\n",
    "        self.dgamma = None\n",
    "        self.dbeta = None\n",
    "\n",
    "    def forward(self, x, train_flg=True):\n",
    "        self.input_shape = x.shape\n",
    "        if x.ndim != 2:\n",
    "            N, C, H, W = x.shape\n",
    "            x = x.reshape(N, -1)\n",
    "\n",
    "        out = self.__forward(x, train_flg)\n",
    "        \n",
    "        return out.reshape(*self.input_shape)\n",
    "            \n",
    "    def __forward(self, x, train_flg):\n",
    "        if self.running_mean is None:\n",
    "            N, D = x.shape\n",
    "            self.running_mean = np.zeros(D)\n",
    "            self.running_var = np.zeros(D)\n",
    "                        \n",
    "        if train_flg:\n",
    "            mu = x.mean(axis=0)\n",
    "            xc = x - mu\n",
    "            var = np.mean(xc**2, axis=0)\n",
    "            std = np.sqrt(var + 10e-7)\n",
    "            xn = xc / std\n",
    "            \n",
    "            self.batch_size = x.shape[0]\n",
    "            self.xc = xc\n",
    "            self.xn = xn\n",
    "            self.std = std\n",
    "            self.running_mean = self.momentum * self.running_mean + (1-self.momentum) * mu\n",
    "            self.running_var = self.momentum * self.running_var + (1-self.momentum) * var            \n",
    "        else:\n",
    "            xc = x - self.running_mean\n",
    "            xn = xc / ((np.sqrt(self.running_var + 10e-7)))\n",
    "            \n",
    "        out = self.gamma * xn + self.beta \n",
    "        return out\n",
    "\n",
    "    def backward(self, dout):\n",
    "        if dout.ndim != 2:\n",
    "            N, C, H, W = dout.shape\n",
    "            dout = dout.reshape(N, -1)\n",
    "\n",
    "        dx = self.__backward(dout)\n",
    "\n",
    "        dx = dx.reshape(*self.input_shape)\n",
    "        return dx\n",
    "\n",
    "    def __backward(self, dout):\n",
    "        dbeta = dout.sum(axis=0)\n",
    "        dgamma = np.sum(self.xn * dout, axis=0)\n",
    "        dxn = self.gamma * dout\n",
    "        dxc = dxn / self.std\n",
    "        dstd = -np.sum((dxn * self.xc) / (self.std * self.std), axis=0)\n",
    "        dvar = 0.5 * dstd / self.std\n",
    "        dxc += (2.0 / self.batch_size) * self.xc * dvar\n",
    "        dmu = np.sum(dxc, axis=0)\n",
    "        dx = dxc - dmu / self.batch_size\n",
    "        \n",
    "        self.dgamma = dgamma\n",
    "        self.dbeta = dbeta\n",
    "        \n",
    "        return dx\n"
   ]
  },
  {
   "cell_type": "code",
   "execution_count": 5,
   "metadata": {},
   "outputs": [
    {
     "name": "stdout",
     "output_type": "stream",
     "text": [
      "============== 1/16 ==============\n",
      "epoch:0 | 0.093 - 0.089\n",
      "epoch:1 | 0.097 - 0.089\n",
      "epoch:2 | 0.097 - 0.108\n",
      "epoch:3 | 0.097 - 0.137\n",
      "epoch:4 | 0.097 - 0.166\n",
      "epoch:5 | 0.097 - 0.2\n",
      "epoch:6 | 0.097 - 0.23\n",
      "epoch:7 | 0.097 - 0.25\n",
      "epoch:8 | 0.097 - 0.28\n",
      "epoch:9 | 0.097 - 0.295\n",
      "epoch:10 | 0.097 - 0.324\n",
      "epoch:11 | 0.097 - 0.337\n",
      "epoch:12 | 0.097 - 0.345\n",
      "epoch:13 | 0.097 - 0.371\n",
      "epoch:14 | 0.097 - 0.386\n",
      "epoch:15 | 0.097 - 0.39\n",
      "epoch:16 | 0.097 - 0.408\n",
      "epoch:17 | 0.097 - 0.41\n"
     ]
    },
    {
     "name": "stderr",
     "output_type": "stream",
     "text": [
      "No artists with labels found to put in legend.  Note that artists whose label start with an underscore are ignored when legend() is called with no argument.\n"
     ]
    },
    {
     "name": "stdout",
     "output_type": "stream",
     "text": [
      "epoch:18 | 0.097 - 0.427\n",
      "epoch:19 | 0.097 - 0.441\n",
      "============== 2/16 ==============\n",
      "epoch:0 | 0.097 - 0.091\n",
      "epoch:1 | 0.117 - 0.084\n",
      "epoch:2 | 0.117 - 0.13\n",
      "epoch:3 | 0.117 - 0.183\n",
      "epoch:4 | 0.117 - 0.219\n",
      "epoch:5 | 0.117 - 0.241\n",
      "epoch:6 | 0.117 - 0.271\n",
      "epoch:7 | 0.117 - 0.301\n",
      "epoch:8 | 0.117 - 0.313\n",
      "epoch:9 | 0.117 - 0.336\n",
      "epoch:10 | 0.117 - 0.351\n",
      "epoch:11 | 0.117 - 0.388\n",
      "epoch:12 | 0.117 - 0.401\n",
      "epoch:13 | 0.117 - 0.417\n",
      "epoch:14 | 0.117 - 0.446\n",
      "epoch:15 | 0.117 - 0.464\n",
      "epoch:16 | 0.117 - 0.466\n",
      "epoch:17 | 0.117 - 0.496\n",
      "epoch:18 | 0.117 - 0.502\n"
     ]
    },
    {
     "name": "stderr",
     "output_type": "stream",
     "text": [
      "No artists with labels found to put in legend.  Note that artists whose label start with an underscore are ignored when legend() is called with no argument.\n"
     ]
    },
    {
     "name": "stdout",
     "output_type": "stream",
     "text": [
      "epoch:19 | 0.117 - 0.515\n",
      "============== 3/16 ==============\n",
      "epoch:0 | 0.087 - 0.083\n",
      "epoch:1 | 0.329 - 0.105\n",
      "epoch:2 | 0.476 - 0.132\n",
      "epoch:3 | 0.555 - 0.173\n",
      "epoch:4 | 0.615 - 0.228\n",
      "epoch:5 | 0.702 - 0.268\n",
      "epoch:6 | 0.774 - 0.312\n",
      "epoch:7 | 0.819 - 0.346\n",
      "epoch:8 | 0.834 - 0.373\n",
      "epoch:9 | 0.849 - 0.409\n",
      "epoch:10 | 0.875 - 0.446\n",
      "epoch:11 | 0.892 - 0.486\n",
      "epoch:12 | 0.922 - 0.508\n",
      "epoch:13 | 0.924 - 0.53\n",
      "epoch:14 | 0.941 - 0.554\n",
      "epoch:15 | 0.947 - 0.577\n",
      "epoch:16 | 0.956 - 0.604\n",
      "epoch:17 | 0.957 - 0.624\n"
     ]
    },
    {
     "name": "stderr",
     "output_type": "stream",
     "text": [
      "No artists with labels found to put in legend.  Note that artists whose label start with an underscore are ignored when legend() is called with no argument.\n"
     ]
    },
    {
     "name": "stdout",
     "output_type": "stream",
     "text": [
      "epoch:18 | 0.961 - 0.634\n",
      "epoch:19 | 0.968 - 0.658\n",
      "============== 4/16 ==============\n",
      "epoch:0 | 0.106 - 0.102\n",
      "epoch:1 | 0.248 - 0.11\n",
      "epoch:2 | 0.411 - 0.186\n",
      "epoch:3 | 0.492 - 0.264\n",
      "epoch:4 | 0.572 - 0.336\n",
      "epoch:5 | 0.622 - 0.375\n",
      "epoch:6 | 0.675 - 0.431\n",
      "epoch:7 | 0.696 - 0.474\n",
      "epoch:8 | 0.731 - 0.512\n",
      "epoch:9 | 0.747 - 0.549\n",
      "epoch:10 | 0.785 - 0.581\n",
      "epoch:11 | 0.794 - 0.602\n",
      "epoch:12 | 0.81 - 0.626\n",
      "epoch:13 | 0.817 - 0.655\n",
      "epoch:14 | 0.836 - 0.678\n",
      "epoch:15 | 0.841 - 0.694\n",
      "epoch:16 | 0.869 - 0.712\n",
      "epoch:17 | 0.866 - 0.726\n",
      "epoch:18 | 0.873 - 0.746\n"
     ]
    },
    {
     "name": "stderr",
     "output_type": "stream",
     "text": [
      "No artists with labels found to put in legend.  Note that artists whose label start with an underscore are ignored when legend() is called with no argument.\n"
     ]
    },
    {
     "name": "stdout",
     "output_type": "stream",
     "text": [
      "epoch:19 | 0.873 - 0.763\n",
      "============== 5/16 ==============\n",
      "epoch:0 | 0.133 - 0.105\n",
      "epoch:1 | 0.14 - 0.17\n",
      "epoch:2 | 0.146 - 0.313\n",
      "epoch:3 | 0.152 - 0.422\n",
      "epoch:4 | 0.159 - 0.528\n",
      "epoch:5 | 0.183 - 0.598\n",
      "epoch:6 | 0.196 - 0.643\n",
      "epoch:7 | 0.199 - 0.691\n",
      "epoch:8 | 0.2 - 0.728\n",
      "epoch:9 | 0.21 - 0.757\n",
      "epoch:10 | 0.232 - 0.787\n",
      "epoch:11 | 0.251 - 0.802\n",
      "epoch:12 | 0.28 - 0.815\n",
      "epoch:13 | 0.296 - 0.838\n",
      "epoch:14 | 0.301 - 0.851\n",
      "epoch:15 | 0.305 - 0.856\n",
      "epoch:16 | 0.307 - 0.873\n",
      "epoch:17 | 0.323 - 0.876\n"
     ]
    },
    {
     "name": "stderr",
     "output_type": "stream",
     "text": [
      "No artists with labels found to put in legend.  Note that artists whose label start with an underscore are ignored when legend() is called with no argument.\n"
     ]
    },
    {
     "name": "stdout",
     "output_type": "stream",
     "text": [
      "epoch:18 | 0.328 - 0.881\n",
      "epoch:19 | 0.351 - 0.888\n",
      "============== 6/16 ==============\n",
      "epoch:0 | 0.064 - 0.089\n",
      "epoch:1 | 0.133 - 0.197\n",
      "epoch:2 | 0.119 - 0.465\n",
      "epoch:3 | 0.118 - 0.607\n",
      "epoch:4 | 0.118 - 0.665\n",
      "epoch:5 | 0.137 - 0.724\n",
      "epoch:6 | 0.138 - 0.758\n",
      "epoch:7 | 0.116 - 0.783\n",
      "epoch:8 | 0.116 - 0.805\n",
      "epoch:9 | 0.117 - 0.831\n",
      "epoch:10 | 0.117 - 0.851\n",
      "epoch:11 | 0.164 - 0.857\n",
      "epoch:12 | 0.116 - 0.874\n",
      "epoch:13 | 0.116 - 0.885\n",
      "epoch:14 | 0.116 - 0.897\n",
      "epoch:15 | 0.116 - 0.911\n",
      "epoch:16 | 0.123 - 0.92\n",
      "epoch:17 | 0.184 - 0.925\n"
     ]
    },
    {
     "name": "stderr",
     "output_type": "stream",
     "text": [
      "No artists with labels found to put in legend.  Note that artists whose label start with an underscore are ignored when legend() is called with no argument.\n"
     ]
    },
    {
     "name": "stdout",
     "output_type": "stream",
     "text": [
      "epoch:18 | 0.136 - 0.933\n",
      "epoch:19 | 0.185 - 0.939\n",
      "============== 7/16 ==============\n",
      "epoch:0 | 0.117 - 0.1\n",
      "epoch:1 | 0.117 - 0.236\n",
      "epoch:2 | 0.117 - 0.566\n",
      "epoch:3 | 0.117 - 0.697\n",
      "epoch:4 | 0.117 - 0.762\n",
      "epoch:5 | 0.117 - 0.784\n",
      "epoch:6 | 0.117 - 0.807\n",
      "epoch:7 | 0.117 - 0.846\n",
      "epoch:8 | 0.117 - 0.868\n",
      "epoch:9 | 0.116 - 0.896\n",
      "epoch:10 | 0.116 - 0.918\n",
      "epoch:11 | 0.116 - 0.933\n",
      "epoch:12 | 0.116 - 0.956\n",
      "epoch:13 | 0.116 - 0.966\n",
      "epoch:14 | 0.116 - 0.966\n",
      "epoch:15 | 0.117 - 0.975\n",
      "epoch:16 | 0.117 - 0.983\n",
      "epoch:17 | 0.117 - 0.986\n",
      "epoch:18 | 0.117 - 0.99\n"
     ]
    },
    {
     "name": "stderr",
     "output_type": "stream",
     "text": [
      "No artists with labels found to put in legend.  Note that artists whose label start with an underscore are ignored when legend() is called with no argument.\n"
     ]
    },
    {
     "name": "stdout",
     "output_type": "stream",
     "text": [
      "epoch:19 | 0.117 - 0.99\n",
      "============== 8/16 ==============\n",
      "epoch:0 | 0.097 - 0.086\n",
      "epoch:1 | 0.117 - 0.342\n",
      "epoch:2 | 0.117 - 0.663\n",
      "epoch:3 | 0.105 - 0.777\n",
      "epoch:4 | 0.117 - 0.834\n",
      "epoch:5 | 0.117 - 0.875\n",
      "epoch:6 | 0.117 - 0.918\n",
      "epoch:7 | 0.117 - 0.944\n",
      "epoch:8 | 0.117 - 0.967\n",
      "epoch:9 | 0.117 - 0.973\n",
      "epoch:10 | 0.117 - 0.983\n",
      "epoch:11 | 0.117 - 0.989\n",
      "epoch:12 | 0.117 - 0.992\n",
      "epoch:13 | 0.117 - 0.993\n",
      "epoch:14 | 0.117 - 0.995\n",
      "epoch:15 | 0.117 - 0.995\n",
      "epoch:16 | 0.117 - 0.996\n",
      "epoch:17 | 0.117 - 0.997\n",
      "epoch:18 | 0.116 - 0.997\n",
      "epoch:19 | 0.117 - 0.997\n"
     ]
    },
    {
     "name": "stderr",
     "output_type": "stream",
     "text": [
      "No artists with labels found to put in legend.  Note that artists whose label start with an underscore are ignored when legend() is called with no argument.\n"
     ]
    },
    {
     "name": "stdout",
     "output_type": "stream",
     "text": [
      "============== 9/16 ==============\n",
      "epoch:0 | 0.1 - 0.161\n",
      "epoch:1 | 0.117 - 0.608\n",
      "epoch:2 | 0.116 - 0.746\n",
      "epoch:3 | 0.116 - 0.81\n",
      "epoch:4 | 0.117 - 0.845\n",
      "epoch:5 | 0.117 - 0.87\n",
      "epoch:6 | 0.117 - 0.893\n",
      "epoch:7 | 0.117 - 0.892\n",
      "epoch:8 | 0.117 - 0.914\n",
      "epoch:9 | 0.117 - 0.948\n",
      "epoch:10 | 0.117 - 0.989\n",
      "epoch:11 | 0.117 - 0.992\n",
      "epoch:12 | 0.117 - 0.999\n",
      "epoch:13 | 0.117 - 0.999\n",
      "epoch:14 | 0.117 - 0.999\n",
      "epoch:15 | 0.117 - 0.999\n",
      "epoch:16 | 0.117 - 1.0\n",
      "epoch:17 | 0.117 - 1.0\n",
      "epoch:18 | 0.117 - 1.0\n"
     ]
    },
    {
     "name": "stderr",
     "output_type": "stream",
     "text": [
      "No artists with labels found to put in legend.  Note that artists whose label start with an underscore are ignored when legend() is called with no argument.\n"
     ]
    },
    {
     "name": "stdout",
     "output_type": "stream",
     "text": [
      "epoch:19 | 0.117 - 1.0\n",
      "============== 10/16 ==============\n",
      "epoch:0 | 0.093 - 0.106\n",
      "epoch:1 | 0.1 - 0.557\n",
      "epoch:2 | 0.117 - 0.83\n",
      "epoch:3 | 0.116 - 0.835\n",
      "epoch:4 | 0.116 - 0.874\n",
      "epoch:5 | 0.116 - 0.897\n",
      "epoch:6 | 0.116 - 0.949\n",
      "epoch:7 | 0.116 - 0.967\n",
      "epoch:8 | 0.116 - 0.987\n",
      "epoch:9 | 0.116 - 0.993\n",
      "epoch:10 | 0.116 - 0.994\n",
      "epoch:11 | 0.116 - 0.995\n",
      "epoch:12 | 0.116 - 0.997\n",
      "epoch:13 | 0.116 - 0.997\n",
      "epoch:14 | 0.116 - 0.997\n",
      "epoch:15 | 0.116 - 0.997\n",
      "epoch:16 | 0.116 - 0.997\n",
      "epoch:17 | 0.116 - 0.997\n"
     ]
    },
    {
     "name": "stderr",
     "output_type": "stream",
     "text": [
      "No artists with labels found to put in legend.  Note that artists whose label start with an underscore are ignored when legend() is called with no argument.\n"
     ]
    },
    {
     "name": "stdout",
     "output_type": "stream",
     "text": [
      "epoch:18 | 0.116 - 0.997\n",
      "epoch:19 | 0.116 - 0.943\n",
      "============== 11/16 ==============\n",
      "epoch:0 | 0.116 - 0.185\n",
      "epoch:1 | 0.116 - 0.515\n",
      "epoch:2 | 0.116 - 0.537\n",
      "epoch:3 | 0.116 - 0.708\n",
      "epoch:4 | 0.116 - 0.763\n",
      "epoch:5 | 0.116 - 0.713\n",
      "epoch:6 | 0.116 - 0.782\n",
      "epoch:7 | 0.116 - 0.775\n",
      "epoch:8 | 0.117 - 0.806\n",
      "epoch:9 | 0.117 - 0.879\n",
      "epoch:10 | 0.117 - 0.883\n",
      "epoch:11 | 0.117 - 0.884\n",
      "epoch:12 | 0.116 - 0.887\n",
      "epoch:13 | 0.116 - 0.884\n",
      "epoch:14 | 0.116 - 0.89\n",
      "epoch:15 | 0.116 - 0.871\n",
      "epoch:16 | 0.116 - 0.878\n",
      "epoch:17 | 0.116 - 0.893\n",
      "epoch:18 | 0.116 - 0.899\n"
     ]
    },
    {
     "name": "stderr",
     "output_type": "stream",
     "text": [
      "No artists with labels found to put in legend.  Note that artists whose label start with an underscore are ignored when legend() is called with no argument.\n"
     ]
    },
    {
     "name": "stdout",
     "output_type": "stream",
     "text": [
      "epoch:19 | 0.116 - 0.901\n",
      "============== 12/16 ==============\n",
      "epoch:0 | 0.117 - 0.151\n",
      "epoch:1 | 0.117 - 0.573\n",
      "epoch:2 | 0.117 - 0.611\n",
      "epoch:3 | 0.116 - 0.602\n",
      "epoch:4 | 0.116 - 0.632\n",
      "epoch:5 | 0.116 - 0.69\n",
      "epoch:6 | 0.116 - 0.69\n",
      "epoch:7 | 0.116 - 0.701\n",
      "epoch:8 | 0.116 - 0.796\n",
      "epoch:9 | 0.116 - 0.8\n",
      "epoch:10 | 0.116 - 0.772\n",
      "epoch:11 | 0.116 - 0.76\n",
      "epoch:12 | 0.116 - 0.806\n",
      "epoch:13 | 0.116 - 0.804\n",
      "epoch:14 | 0.116 - 0.791\n",
      "epoch:15 | 0.116 - 0.792\n",
      "epoch:16 | 0.116 - 0.787\n",
      "epoch:17 | 0.116 - 0.803\n"
     ]
    },
    {
     "name": "stderr",
     "output_type": "stream",
     "text": [
      "No artists with labels found to put in legend.  Note that artists whose label start with an underscore are ignored when legend() is called with no argument.\n"
     ]
    },
    {
     "name": "stdout",
     "output_type": "stream",
     "text": [
      "epoch:18 | 0.116 - 0.807\n",
      "epoch:19 | 0.116 - 0.81\n",
      "============== 13/16 ==============\n",
      "epoch:0 | 0.116 - 0.157\n",
      "epoch:1 | 0.117 - 0.411\n",
      "epoch:2 | 0.117 - 0.54\n",
      "epoch:3 | 0.117 - 0.576\n",
      "epoch:4 | 0.117 - 0.56\n",
      "epoch:5 | 0.117 - 0.661\n",
      "epoch:6 | 0.117 - 0.658\n",
      "epoch:7 | 0.117 - 0.672\n",
      "epoch:8 | 0.117 - 0.665\n",
      "epoch:9 | 0.117 - 0.664\n",
      "epoch:10 | 0.117 - 0.688\n",
      "epoch:11 | 0.117 - 0.718\n",
      "epoch:12 | 0.117 - 0.694\n",
      "epoch:13 | 0.117 - 0.697\n",
      "epoch:14 | 0.117 - 0.704\n",
      "epoch:15 | 0.117 - 0.718\n",
      "epoch:16 | 0.117 - 0.68\n",
      "epoch:17 | 0.117 - 0.72\n"
     ]
    },
    {
     "name": "stderr",
     "output_type": "stream",
     "text": [
      "No artists with labels found to put in legend.  Note that artists whose label start with an underscore are ignored when legend() is called with no argument.\n"
     ]
    },
    {
     "name": "stdout",
     "output_type": "stream",
     "text": [
      "epoch:18 | 0.117 - 0.675\n",
      "epoch:19 | 0.117 - 0.737\n",
      "============== 14/16 ==============\n",
      "epoch:0 | 0.117 - 0.12\n",
      "epoch:1 | 0.117 - 0.425\n",
      "epoch:2 | 0.117 - 0.477\n",
      "epoch:3 | 0.117 - 0.507\n",
      "epoch:4 | 0.117 - 0.489\n",
      "epoch:5 | 0.117 - 0.52\n",
      "epoch:6 | 0.117 - 0.507\n",
      "epoch:7 | 0.117 - 0.522\n",
      "epoch:8 | 0.117 - 0.52\n",
      "epoch:9 | 0.117 - 0.522\n",
      "epoch:10 | 0.117 - 0.522\n",
      "epoch:11 | 0.117 - 0.523\n",
      "epoch:12 | 0.117 - 0.523\n",
      "epoch:13 | 0.117 - 0.616\n",
      "epoch:14 | 0.117 - 0.616\n",
      "epoch:15 | 0.117 - 0.613\n",
      "epoch:16 | 0.117 - 0.614\n",
      "epoch:17 | 0.117 - 0.617\n",
      "epoch:18 | 0.117 - 0.619\n"
     ]
    },
    {
     "name": "stderr",
     "output_type": "stream",
     "text": [
      "No artists with labels found to put in legend.  Note that artists whose label start with an underscore are ignored when legend() is called with no argument.\n"
     ]
    },
    {
     "name": "stdout",
     "output_type": "stream",
     "text": [
      "epoch:19 | 0.117 - 0.594\n",
      "============== 15/16 ==============\n",
      "epoch:0 | 0.099 - 0.097\n",
      "epoch:1 | 0.117 - 0.244\n",
      "epoch:2 | 0.117 - 0.4\n",
      "epoch:3 | 0.117 - 0.412\n",
      "epoch:4 | 0.117 - 0.414\n",
      "epoch:5 | 0.117 - 0.425\n",
      "epoch:6 | 0.117 - 0.387\n",
      "epoch:7 | 0.117 - 0.485\n",
      "epoch:8 | 0.117 - 0.5\n",
      "epoch:9 | 0.117 - 0.502\n",
      "epoch:10 | 0.117 - 0.501\n",
      "epoch:11 | 0.117 - 0.518\n",
      "epoch:12 | 0.117 - 0.493\n",
      "epoch:13 | 0.117 - 0.515\n",
      "epoch:14 | 0.117 - 0.52\n",
      "epoch:15 | 0.117 - 0.513\n",
      "epoch:16 | 0.117 - 0.526\n",
      "epoch:17 | 0.117 - 0.531\n"
     ]
    },
    {
     "name": "stderr",
     "output_type": "stream",
     "text": [
      "No artists with labels found to put in legend.  Note that artists whose label start with an underscore are ignored when legend() is called with no argument.\n"
     ]
    },
    {
     "name": "stdout",
     "output_type": "stream",
     "text": [
      "epoch:18 | 0.117 - 0.528\n",
      "epoch:19 | 0.117 - 0.532\n",
      "============== 16/16 ==============\n",
      "epoch:0 | 0.116 - 0.247\n",
      "epoch:1 | 0.116 - 0.189\n",
      "epoch:2 | 0.116 - 0.265\n",
      "epoch:3 | 0.105 - 0.305\n",
      "epoch:4 | 0.116 - 0.4\n",
      "epoch:5 | 0.116 - 0.4\n",
      "epoch:6 | 0.116 - 0.411\n",
      "epoch:7 | 0.116 - 0.38\n",
      "epoch:8 | 0.116 - 0.414\n",
      "epoch:9 | 0.116 - 0.421\n",
      "epoch:10 | 0.116 - 0.424\n",
      "epoch:11 | 0.116 - 0.423\n",
      "epoch:12 | 0.116 - 0.42\n",
      "epoch:13 | 0.116 - 0.418\n",
      "epoch:14 | 0.116 - 0.425\n",
      "epoch:15 | 0.116 - 0.424\n",
      "epoch:16 | 0.116 - 0.425\n",
      "epoch:17 | 0.116 - 0.424\n",
      "epoch:18 | 0.116 - 0.424\n",
      "epoch:19 | 0.116 - 0.425\n"
     ]
    },
    {
     "data": {
      "image/png": "[encoded data removed]",
      "text/plain": [
       "<Figure size 640x480 with 16 Axes>"
      ]
     },
     "metadata": {},
     "output_type": "display_data"
    }
   ],
   "source": [
    "(x_train, t_train), (x_test, t_test) = load_mnist(normalize=True)\n",
    "\n",
    "# 学習データを削減\n",
    "x_train = x_train[:1000]\n",
    "t_train = t_train[:1000]\n",
    "\n",
    "max_epochs = 20\n",
    "train_size = x_train.shape[0]\n",
    "batch_size = 100\n",
    "learning_rate = 0.01\n",
    "\n",
    "\n",
    "def __train(weight_init_std):\n",
    "    bn_network = MultiLayerNetExtend(input_size=784, hidden_size_list=[100, 100, 100, 100, 100], output_size=10, \n",
    "                                    weight_init_std=weight_init_std, use_batchnorm=True)\n",
    "    network = MultiLayerNetExtend(input_size=784, hidden_size_list=[100, 100, 100, 100, 100], output_size=10,\n",
    "                                weight_init_std=weight_init_std)\n",
    "    optimizer = SGD(lr=learning_rate)\n",
    "    \n",
    "    train_acc_list = []\n",
    "    bn_train_acc_list = []\n",
    "    \n",
    "    iter_per_epoch = max(train_size / batch_size, 1)\n",
    "    epoch_cnt = 0\n",
    "    \n",
    "    for i in range(1000000000):\n",
    "        batch_mask = np.random.choice(train_size, batch_size)\n",
    "        x_batch = x_train[batch_mask]\n",
    "        t_batch = t_train[batch_mask]\n",
    "    \n",
    "        for _network in (bn_network, network):\n",
    "            grads = _network.gradient(x_batch, t_batch)\n",
    "            optimizer.update(_network.params, grads)\n",
    "    \n",
    "        if i % iter_per_epoch == 0:\n",
    "            train_acc = network.accuracy(x_train, t_train)\n",
    "            bn_train_acc = bn_network.accuracy(x_train, t_train)\n",
    "            train_acc_list.append(train_acc)\n",
    "            bn_train_acc_list.append(bn_train_acc)\n",
    "    \n",
    "            print(\"epoch:\" + str(epoch_cnt) + \" | \" + str(train_acc) + \" - \" + str(bn_train_acc))\n",
    "    \n",
    "            epoch_cnt += 1\n",
    "            if epoch_cnt >= max_epochs:\n",
    "                break\n",
    "                \n",
    "    return train_acc_list, bn_train_acc_list\n",
    "\n",
    "\n",
    "# 3.グラフの描画==========\n",
    "weight_scale_list = np.logspace(0, -4, num=16)\n",
    "x = np.arange(max_epochs)\n",
    "\n",
    "for i, w in enumerate(weight_scale_list):\n",
    "    print( \"============== \" + str(i+1) + \"/16\" + \" ==============\")\n",
    "    train_acc_list, bn_train_acc_list = __train(w)\n",
    "    \n",
    "    plt.subplot(4,4,i+1)\n",
    "    plt.title(\"W:\" + str(w))\n",
    "    if i == 15:\n",
    "        plt.plot(x, bn_train_acc_list, label='Batch Normalization', markevery=2)\n",
    "        plt.plot(x, train_acc_list, linestyle = \"--\", label='Normal(without BatchNorm)', markevery=2)\n",
    "    else:\n",
    "        plt.plot(x, bn_train_acc_list, markevery=2)\n",
    "        plt.plot(x, train_acc_list, linestyle=\"--\", markevery=2)\n",
    "\n",
    "    plt.ylim(0, 1.0)\n",
    "    if i % 4:\n",
    "        plt.yticks([])\n",
    "    else:\n",
    "        plt.ylabel(\"accuracy\")\n",
    "    if i < 12:\n",
    "        plt.xticks([])\n",
    "    else:\n",
    "        plt.xlabel(\"epochs\")\n",
    "    plt.legend(loc='lower right')\n",
    "    \n",
    "plt.show()"
   ]
  }
 ],
 "metadata": {
  "kernelspec": {
   "display_name": ".venv",
   "language": "python",
   "name": "python3"
  },
  "language_info": {
   "codemirror_mode": {
    "name": "ipython",
    "version": 3
   },
   "file_extension": ".py",
   "mimetype": "text/x-python",
   "name": "python",
   "nbconvert_exporter": "python",
   "pygments_lexer": "ipython3",
   "version": "3.9.4"
  },
  "orig_nbformat": 4
 },
 "nbformat": 4,
 "nbformat_minor": 2
}
